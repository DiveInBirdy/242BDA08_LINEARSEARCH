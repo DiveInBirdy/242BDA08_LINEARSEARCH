{
 "cells": [
  {
   "cell_type": "markdown",
   "id": "f0d1a78d-73bf-4292-a479-63567e0d2bb2",
   "metadata": {},
   "source": [
    "Class-03/08/2024"
   ]
  },
  {
   "cell_type": "code",
   "execution_count": 1,
   "id": "5a24ce88-676c-4eb2-83db-83dc08170aee",
   "metadata": {},
   "outputs": [
    {
     "data": {
      "text/plain": [
       "list"
      ]
     },
     "execution_count": 1,
     "metadata": {},
     "output_type": "execute_result"
    }
   ],
   "source": [
    "#list-contagious-sequential\n",
    "\n",
    "shopping_list=[\n",
    "    \"eggs\",\n",
    "    \"bread\",\n",
    "    \"dark fantasy\",\n",
    "    \"maggi\",\n",
    "    \"mango\",\n",
    "    \"rope\",\n",
    "    \"slippers\",\n",
    "    \"fan\"\n",
    "]\n",
    "type(shopping_list)"
   ]
  },
  {
   "cell_type": "code",
   "execution_count": 2,
   "id": "95e0c487-cb4c-4d80-9dbf-e81b2f64eaa1",
   "metadata": {},
   "outputs": [
    {
     "data": {
      "text/plain": [
       "3"
      ]
     },
     "execution_count": 2,
     "metadata": {},
     "output_type": "execute_result"
    }
   ],
   "source": [
    "demo=[0,1,2,3,4]\n",
    "demo[3]"
   ]
  },
  {
   "cell_type": "code",
   "execution_count": 15,
   "id": "5c8a1f0f-d070-4106-b9d8-fe6fdea1b2b3",
   "metadata": {},
   "outputs": [
    {
     "name": "stdout",
     "output_type": "stream",
     "text": [
      "mango\n",
      "The location of the mango is in [ 4 ]\n"
     ]
    }
   ],
   "source": [
    "# How do you find a given value in a list?\n",
    "# How do you find the index of a given value?\n",
    "shopping_list=[\n",
    "    \"eggs\",\n",
    "    \"bread\",\n",
    "    \"dark fantasy\",\n",
    "    \"maggi\",\n",
    "    \"mango\",\n",
    "    \"rope\",\n",
    "    \"slippers\",\n",
    "    \"fan\"\n",
    "]\n",
    "for i in shopping_list:\n",
    "    if \"mango\"==i:\n",
    "       print (i)\n",
    "       print(\"The location of the mango is in [\",shopping_list.index(\"mango\"),\"]\")"
   ]
  },
  {
   "cell_type": "code",
   "execution_count": 21,
   "id": "3cce5382-1e48-40b1-b986-dc3de76b34ad",
   "metadata": {},
   "outputs": [
    {
     "name": "stdout",
     "output_type": "stream",
     "text": [
      "4\n"
     ]
    }
   ],
   "source": [
    "shopping_list=[\n",
    "    \"eggs\",\n",
    "    \"bread\",\n",
    "    \"dark fantasy\",\n",
    "    \"maggi\",\n",
    "    \"mango\",\n",
    "    \"rope\",\n",
    "    \"slippers\",\n",
    "    \"fan\"\n",
    "]\n",
    "for i in range(len(shopping_list)):\n",
    "    if shopping_list[i]==\"mango\":\n",
    "       print(i)"
   ]
  },
  {
   "cell_type": "code",
   "execution_count": null,
   "id": "8452e2a2-2a0e-4105-8e00-ee8383800ba5",
   "metadata": {},
   "outputs": [],
   "source": [
    "def linearoperation(n, numbers):\n",
    "    for x in range(len(numbers)):\n",
    "        if(n==numbers[x]):\n",
    "            print(f\" the number {n} is found in index.\", x)"
   ]
  },
  {
   "cell_type": "code",
   "execution_count": null,
   "id": "e8c1e387",
   "metadata": {},
   "outputs": [],
   "source": [
    "numbers = []\n",
    "countofnum = int(input(\"Enter the number of elements you want to enter: \")) \n",
    "for i in range(1,countofnum+1):\n",
    "    y = input()\n",
    "    numbers.append(y)\n",
    "n = input(\"Enter the element you want to search: \")\n",
    "\n",
    "linearoperation(n, numbers)"
   ]
  }
 ],
 "metadata": {
  "kernelspec": {
   "display_name": "Python 3 (ipykernel)",
   "language": "python",
   "name": "python3"
  },
  "language_info": {
   "codemirror_mode": {
    "name": "ipython",
    "version": 3
   },
   "file_extension": ".py",
   "mimetype": "text/x-python",
   "name": "python",
   "nbconvert_exporter": "python",
   "pygments_lexer": "ipython3",
   "version": "3.12.4"
  }
 },
 "nbformat": 4,
 "nbformat_minor": 5
}
